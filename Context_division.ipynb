{
  "nbformat": 4,
  "nbformat_minor": 0,
  "metadata": {
    "colab": {
      "provenance": []
    },
    "kernelspec": {
      "name": "python3",
      "display_name": "Python 3"
    },
    "language_info": {
      "name": "python"
    }
  },
  "cells": [
    {
      "cell_type": "code",
      "execution_count": null,
      "metadata": {
        "colab": {
          "base_uri": "https://localhost:8080/"
        },
        "id": "NiPnvTsAolXk",
        "outputId": "5e1f8776-eca2-464d-b814-19b5889edc86"
      },
      "outputs": [
        {
          "output_type": "stream",
          "name": "stdout",
          "text": [
            "<zip object at 0x7f20ec5c4960>\n",
            "(1, 2, 1)\n",
            "[1]\n",
            "(2, 1, 3)\n",
            "[1, 1]\n",
            "(1, 3, 4)\n",
            "[1, 1, 0]\n"
          ]
        }
      ],
      "source": [
        "import itertools\n",
        "def three(iter):\n",
        "    a,b,c=itertools.tee(iter,3)\n",
        "    next(b,None)\n",
        "    next(c,None)\n",
        "    next(c,None)\n",
        "    return zip(a,b,c)\n",
        "\n",
        "\n",
        "def solution(numbers):\n",
        "    \n",
        "    y=[]\n",
        "    seq= three(numbers)\n",
        "    \n",
        "    print(seq)\n",
        "    for x in seq:\n",
        "        i=0\n",
        "        print(x)\n",
        "        if(x[0]<x[1]):\n",
        "            if(x[2]<x[1]):\n",
        "                i=1\n",
        "        elif(x[0]>x[1]):\n",
        "            if(x[2]>x[1]):\n",
        "                i=1\n",
        "        else:\n",
        "            i=0\n",
        "        y.append(i)\n",
        "        print(y)   \n",
        "\n",
        "    return y"
      ]
    },
    {
      "cell_type": "code",
      "source": [
        "pattern = \"010\"\n",
        "source = \"amazing\"\n",
        "\n",
        "def solution(pattern, source):\n",
        "  a=[]\n",
        "  b=[]\n",
        "  vowels =['a','e','i','o','u','y']\n",
        "  for x in pattern:\n",
        "    u=1\n",
        "    if (x==\"0\"):\n",
        "      \n",
        "      u=0\n",
        "    \n",
        "    a.append(u)\n",
        "  for y in source:\n",
        "      if ( y not in vowels):\n",
        "        k=1\n",
        "      else:\n",
        "        k=0\n",
        "      b.append(k)\n",
        "  count=0\n",
        "  print(b)\n",
        "  print(a)\n",
        "  count=0\n",
        "  print([([int(j == p) for p in a], [n for n, p in enumerate(a) if j == p]) for j in b])\n",
        "  print([([int(j == p) for j in b], [n for n, j in enumerate(b) if j == p]) for p in a])\n",
        "   #count=count+1\n",
        "    #print(n)\n",
        "\n",
        "\n",
        "sol=solution(pattern, source)"
      ],
      "metadata": {
        "colab": {
          "base_uri": "https://localhost:8080/"
        },
        "id": "8Ttrn2J0sUd2",
        "outputId": "56be93be-f0fd-4f84-f88e-58fd8a0ced3f"
      },
      "execution_count": null,
      "outputs": [
        {
          "output_type": "stream",
          "name": "stdout",
          "text": [
            "[0, 1, 0, 1, 0, 1, 1]\n",
            "[0, 1, 0]\n",
            "[([1, 0, 1], [0, 2]), ([0, 1, 0], [1]), ([1, 0, 1], [0, 2]), ([0, 1, 0], [1]), ([1, 0, 1], [0, 2]), ([0, 1, 0], [1]), ([0, 1, 0], [1])]\n",
            "[([1, 0, 1, 0, 1, 0, 0], [0, 2, 4]), ([0, 1, 0, 1, 0, 1, 1], [1, 3, 5, 6]), ([1, 0, 1, 0, 1, 0, 0], [0, 2, 4])]\n"
          ]
        }
      ]
    },
    {
      "cell_type": "code",
      "source": [
        "\n",
        "  for j in b:\n",
        "\n",
        "     for p in a:\n",
        "          if(p==j):\n",
        "            continue\n",
        "\n",
        "     count=count+1\n",
        "\n",
        "     \n",
        "  for (let i =0 ; i < b.length;i++){\n",
        "\n",
        "    for (let j = 0 ; j< a.length; j++){\n",
        "\n",
        "      if (b[i++] === a[j])\n",
        "\n",
        "    count=count+1\n",
        "\n",
        "\n",
        "  print(count)"
      ],
      "metadata": {
        "id": "9LzQhIZh14Zu"
      },
      "execution_count": null,
      "outputs": []
    }
  ]
}