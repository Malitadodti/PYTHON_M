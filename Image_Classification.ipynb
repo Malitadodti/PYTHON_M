{
  "nbformat": 4,
  "nbformat_minor": 0,
  "metadata": {
    "colab": {
      "provenance": []
    },
    "kernelspec": {
      "name": "python3",
      "display_name": "Python 3"
    },
    "language_info": {
      "name": "python"
    },
    "gpuClass": "standard"
  },
  "cells": [
    {
      "cell_type": "code",
      "execution_count": null,
      "metadata": {
        "colab": {
          "base_uri": "https://localhost:8080/"
        },
        "id": "IvJB1bFaMNCl",
        "outputId": "e8e61d5c-3de9-4883-ac0d-185454b52ec7"
      },
      "outputs": [
        {
          "output_type": "stream",
          "name": "stdout",
          "text": [
            "2.3\n"
          ]
        }
      ],
      "source": [
        "inputs=[1,2,3]\n",
        "weights=[0.2,0.8,-0.5]\n",
        "bias=2\n",
        "\n",
        "output=inputs[0]*weights[0]+inputs[1]*weights[1]+inputs[2]*weights[2]+bias\n",
        "print(output)"
      ]
    },
    {
      "cell_type": "code",
      "source": [
        "import numpy as np \n",
        "\n",
        "inputs = [1.0, 2.0, 3.0, 2.5]\n",
        "weights = [[0.2, 0.8, -0.5, 1.0],\n",
        "           [0.5, -0.91, 0.26, -0.5],\n",
        "           [-0.26, -0.27, 0.17, 0.87]]\n",
        "\n",
        "biases = [2.0, 3.0, 0.5]\n",
        "print((weights,biases))"
      ],
      "metadata": {
        "colab": {
          "base_uri": "https://localhost:8080/"
        },
        "id": "Wluyk095RBiY",
        "outputId": "56a40d9b-441b-4a7e-881d-8f2bc2bf0e94"
      },
      "execution_count": null,
      "outputs": [
        {
          "output_type": "stream",
          "name": "stdout",
          "text": [
            "([[0.2, 0.8, -0.5, 1.0], [0.5, -0.91, 0.26, -0.5], [-0.26, -0.27, 0.17, 0.87]], [2.0, 3.0, 0.5])\n"
          ]
        }
      ]
    },
    {
      "cell_type": "code",
      "source": [
        "import numpy as np \n",
        "\n",
        "np.random.seed(0)\n",
        "\n",
        "X = [[1, 2, 3, 2.5],\n",
        "     [2.0, 5.0, -1.0, 2.0],\n",
        "     [-1.5, 2.7, 3.3, -0.8]]\n",
        "\n",
        "\n",
        "class Layer_Dense:\n",
        "  def __init__(self,n_inputs,n_neurons):\n",
        "    self.weights=0.10*np.random.randn(n_inputs,n_neurons)\n",
        "    self.biases=np.zeros((1,n_neurons))\n",
        "  def forward(self,inputs):\n",
        "    self.output=np.dot(inputs,self.weights)+self.biases\n",
        "\n",
        "layer1=Layer_Dense(4,5)\n",
        "layer2=Layer_Dense(5,2)\n",
        "\n",
        "layer1.forward(X)\n",
        "\n",
        "layer2.forward(layer1.output)\n",
        "print(layer2.output)\n"
      ],
      "metadata": {
        "colab": {
          "base_uri": "https://localhost:8080/"
        },
        "id": "wEVkliFFTm9g",
        "outputId": "9bc9623d-7526-4154-d11f-1f90ffede199"
      },
      "execution_count": null,
      "outputs": [
        {
          "output_type": "stream",
          "name": "stdout",
          "text": [
            "[[ 0.148296   -0.08397602]\n",
            " [ 0.14100315 -0.01340469]\n",
            " [ 0.20124979 -0.07290616]]\n"
          ]
        }
      ]
    },
    {
      "cell_type": "code",
      "source": [
        "!pip install nnfs"
      ],
      "metadata": {
        "colab": {
          "base_uri": "https://localhost:8080/"
        },
        "id": "9CbWXqpRmFPx",
        "outputId": "b59f401a-dbb8-4427-a9f9-6e73a38d82d4"
      },
      "execution_count": null,
      "outputs": [
        {
          "output_type": "stream",
          "name": "stdout",
          "text": [
            "Looking in indexes: https://pypi.org/simple, https://us-python.pkg.dev/colab-wheels/public/simple/\n",
            "Collecting nnfs\n",
            "  Downloading nnfs-0.5.1-py3-none-any.whl (9.1 kB)\n",
            "Requirement already satisfied: numpy in /usr/local/lib/python3.7/dist-packages (from nnfs) (1.21.6)\n",
            "Installing collected packages: nnfs\n",
            "Successfully installed nnfs-0.5.1\n"
          ]
        }
      ]
    },
    {
      "cell_type": "code",
      "source": [
        "import numpy as np\n",
        "import nnfs\n",
        "from nnfs.datasets import spiral_data\n",
        "nnfs.init()\n",
        "\n",
        "X = [[1, 2, 3, 2.5],\n",
        "     [2.0, 5.0, -1.0, 2.0],\n",
        "     [-1.5, 2.7, 3.3, -0.8]]\n",
        "\n",
        "X,y = spiral_data(100,3)\n",
        "\n",
        "class Layer_Dense:\n",
        "  def __init__(self,n_inputs,n_neurons):\n",
        "    self.weights=0.10*np.random.randn(n_inputs,n_neurons)\n",
        "    self.biases=np.zeros((1,n_neurons))\n",
        "  def forward(self,inputs):\n",
        "    self.output=np.dot(inputs,self.weights)+self.biases\n",
        "\n",
        "\n",
        "class Activation_ReLU:\n",
        "  def forward(self,inputs):\n",
        "    self.output=np.maximum(0,inputs)\n",
        "\n",
        "class Activation_Softmax:\n",
        "  def forward(self,inputs):\n",
        "    exp_values=np.exp(inputs-np.max(inputs,axis=1,keepdims=True))\n",
        "    probabilities = exp_values/np.sum(exp_values,axis=1,keepdims=True)\n",
        "    self.output=probabilities\n",
        "\n",
        "class Loss:\n",
        "  def calculate(self,output,y):\n",
        "    sample_losses=self.forward(output,y)\n",
        "    data_loss=np.mean(sample_losses)\n",
        "    return data_loss\n",
        "\n",
        "class Loss_CategoricalCrossentropy(Loss):\n",
        "  def forward(self,y_pred,y_true):\n",
        "    samples=len(y_pred)\n",
        "    y_pred_clipped=np.clip(y_pred,1e-7,1-1e-7)\n",
        "\n",
        "    if len(y_true.shape)==1:\n",
        "      correct_confidences=y_pred_clipped[range(samples),y_true]\n",
        "    elif len(y_true.shape)==2:\n",
        "      correct_confidences=np.sum(y_pred_clipped*y_true,axis=1)\n",
        "    negative_log_likelihoods=-np.log(correct_confidences)\n",
        "    return negative_log_likelihoods\n",
        "\n",
        "\n",
        "X,y =spiral_data(samples=100,classes=3)\n",
        "\n",
        "dense1=Layer_Dense(2,3)\n",
        "activation1=Activation_ReLU()\n",
        "\n",
        "dense2=Layer_Dense(3,3)\n",
        "activation2=Activation_Softmax()\n",
        "\n",
        "dense1.forward(X)\n",
        "activation1.forward(dense1.output)\n",
        "\n",
        "dense2.forward(activation1.output)\n",
        "activation2.forward(dense2.output)\n",
        "\n",
        "print(activation2.output[:5])\n",
        "\n",
        "loss_function=Loss_CategoricalCrossentropy()\n",
        "loss=loss_function.calculate(activation2.output,y)\n",
        "\n",
        "print(\"loss:\",loss)"
      ],
      "metadata": {
        "colab": {
          "base_uri": "https://localhost:8080/"
        },
        "id": "ct1w5MFRb6r1",
        "outputId": "c2a99d18-1415-43af-d6df-d104f455cf2c"
      },
      "execution_count": null,
      "outputs": [
        {
          "output_type": "stream",
          "name": "stdout",
          "text": [
            "[[0.33333334 0.33333334 0.33333334]\n",
            " [0.33333334 0.33333334 0.33333334]\n",
            " [0.33333376 0.33333224 0.333334  ]\n",
            " [0.33334652 0.33330023 0.33335322]\n",
            " [0.33333334 0.33333334 0.33333334]]\n",
            "loss: 1.0985749\n"
          ]
        }
      ]
    },
    {
      "cell_type": "code",
      "source": [
        "import math\n",
        "softmax_output=[0.7,0.1,0.2]\n",
        "target_class=0\n",
        "target_output=[1,0,0]\n",
        "loss=-(math.log(softmax_output[0])*target_output[0]+\n",
        "       math.log(softmax_output[1])*target_output[1]+\n",
        "       math.log(softmax_output[2])*target_output[2])\n",
        "\n",
        "print(loss)\n",
        "loss1=-math.log(softmax_output[0])\n",
        "print(loss1)"
      ],
      "metadata": {
        "id": "XxB_KxgkbMz1",
        "colab": {
          "base_uri": "https://localhost:8080/"
        },
        "outputId": "0721a1fd-04e3-49ce-fcd7-5305f4ce8dae"
      },
      "execution_count": null,
      "outputs": [
        {
          "output_type": "stream",
          "name": "stdout",
          "text": [
            "0.35667494393873245\n",
            "0.35667494393873245\n"
          ]
        }
      ]
    },
    {
      "cell_type": "code",
      "source": [
        "from torchvision.transforms import transforms\n",
        "import torch\n",
        "import torchvision\n",
        "from torchvision import transforms,datasets\n",
        "\n",
        "train=datasets.MNIST(\"\",train=True,download=True,transform=transforms.Compose([transforms.ToTensor()]))\n",
        "\n",
        "test=datasets.MNIST(\"\",train=False,download=True,transform=transforms.Compose([transforms.ToTensor()]))"
      ],
      "metadata": {
        "id": "oKSYj5GPJuZz"
      },
      "execution_count": null,
      "outputs": []
    },
    {
      "cell_type": "code",
      "source": [
        "\n",
        "trainset= torch.utils.data.DataLoader(train,batch_size=10,shuffle=True)\n",
        "testset= torch.utils.data.DataLoader(test,batch_size=10,shuffle=True)"
      ],
      "metadata": {
        "id": "aZxulGqIQ4rV"
      },
      "execution_count": null,
      "outputs": []
    },
    {
      "cell_type": "code",
      "source": [
        "for data in trainset:\n",
        "  print(data)\n",
        "  break"
      ],
      "metadata": {
        "id": "2nSu99CHU8NQ"
      },
      "execution_count": null,
      "outputs": []
    },
    {
      "cell_type": "code",
      "source": [
        "x,y=data[0][0],data[1][0]\n",
        "print(y)"
      ],
      "metadata": {
        "colab": {
          "base_uri": "https://localhost:8080/"
        },
        "id": "B-Gn-XwCWBfr",
        "outputId": "2470351c-1d0c-4b5b-e5e5-9a7a83fdaa67"
      },
      "execution_count": null,
      "outputs": [
        {
          "output_type": "stream",
          "name": "stdout",
          "text": [
            "tensor(8)\n"
          ]
        }
      ]
    },
    {
      "cell_type": "code",
      "source": [
        "import matplotlib.pyplot as plt\n",
        "print(data[0].shape)\n",
        "plt.imshow(data[0][0].view(28,28))\n",
        "plt.show()"
      ],
      "metadata": {
        "colab": {
          "base_uri": "https://localhost:8080/",
          "height": 283
        },
        "id": "CFW-JCOWW_D-",
        "outputId": "d222b6cb-0347-4a19-d8ff-73d32b77517f"
      },
      "execution_count": null,
      "outputs": [
        {
          "output_type": "stream",
          "name": "stdout",
          "text": [
            "torch.Size([10, 1, 28, 28])\n"
          ]
        },
        {
          "output_type": "display_data",
          "data": {
            "text/plain": [
              "<Figure size 432x288 with 1 Axes>"
            ],
            "image/png": "[encoded data removed]"
          },
          "metadata": {
            "needs_background": "light"
          }
        }
      ]
    },
    {
      "cell_type": "code",
      "source": [
        "total=0\n",
        "counter_dict={0:0,1:0,2:0,3:0,4:0,5:0,6:0,7:0,8:0,9:0}\n",
        "\n",
        "for data in trainset:\n",
        "  xs,ys=data\n",
        "  for y in ys:\n",
        "    counter_dict[int(y)]+=1\n",
        "    total+=1\n",
        "\n",
        "print(counter_dict)\n"
      ],
      "metadata": {
        "colab": {
          "base_uri": "https://localhost:8080/"
        },
        "id": "5Q-lpv5qXyYJ",
        "outputId": "e635168d-8a3a-4dfc-9cc1-a0710d38c625"
      },
      "execution_count": null,
      "outputs": [
        {
          "output_type": "stream",
          "name": "stdout",
          "text": [
            "{0: 5923, 1: 6742, 2: 5958, 3: 6131, 4: 5842, 5: 5421, 6: 5918, 7: 6265, 8: 5851, 9: 5949}\n"
          ]
        }
      ]
    },
    {
      "cell_type": "code",
      "source": [
        "for i in counter_dict:\n",
        "  print(f\"{i}:{counter_dict[i]/total*100}\")"
      ],
      "metadata": {
        "colab": {
          "base_uri": "https://localhost:8080/"
        },
        "id": "qVhMPMJPapeg",
        "outputId": "d2e35ad2-714c-4501-b259-1b4feeb8b774"
      },
      "execution_count": null,
      "outputs": [
        {
          "output_type": "stream",
          "name": "stdout",
          "text": [
            "0:9.871666666666666\n",
            "1:11.236666666666666\n",
            "2:9.93\n",
            "3:10.218333333333334\n",
            "4:9.736666666666666\n",
            "5:9.035\n",
            "6:9.863333333333333\n",
            "7:10.441666666666666\n",
            "8:9.751666666666667\n",
            "9:9.915000000000001\n"
          ]
        }
      ]
    },
    {
      "cell_type": "code",
      "source": [
        "import torch.nn as nn\n",
        "import torch.nn.functional as F\n",
        "\n",
        "class Net(nn.Module):\n",
        "    def __init__(self):\n",
        "      super().__init__()\n",
        "      self.fc1=nn.Linear(28*28,64)\n",
        "      self.fc2=nn.Linear(64,64)\n",
        "      self.fc3=nn.Linear(64,64)\n",
        "      self.fc4=nn.Linear(64,10)\n",
        "\n",
        "    def forward(self,x):\n",
        "      x=F.relu(self.fc1(x))\n",
        "      x=F.relu(self.fc2(x))\n",
        "      x=F.relu(self.fc2(x))\n",
        "      x=self.fc4(x)\n",
        "      return F.log_softmax(x,dim=1)\n",
        "\n",
        "net=Net()\n",
        "print(net)"
      ],
      "metadata": {
        "colab": {
          "base_uri": "https://localhost:8080/"
        },
        "id": "O-W0ozdpbQOV",
        "outputId": "3fab6753-0496-42bf-dbd0-27dfb02533cf"
      },
      "execution_count": null,
      "outputs": [
        {
          "output_type": "stream",
          "name": "stdout",
          "text": [
            "Net(\n",
            "  (fc1): Linear(in_features=784, out_features=64, bias=True)\n",
            "  (fc2): Linear(in_features=64, out_features=64, bias=True)\n",
            "  (fc3): Linear(in_features=64, out_features=64, bias=True)\n",
            "  (fc4): Linear(in_features=64, out_features=10, bias=True)\n",
            ")\n"
          ]
        }
      ]
    },
    {
      "cell_type": "code",
      "source": [
        "X=torch.rand(28*28)\n",
        "X=X.view(-1,28*28)\n",
        "output=net(X)\n",
        "output"
      ],
      "metadata": {
        "colab": {
          "base_uri": "https://localhost:8080/"
        },
        "id": "yrm2Fm6ffdig",
        "outputId": "11ccc05c-5bd4-43b3-89df-53bdea80a20c"
      },
      "execution_count": null,
      "outputs": [
        {
          "output_type": "execute_result",
          "data": {
            "text/plain": [
              "tensor([[-2.3325, -2.3309, -2.3123, -2.3221, -2.1741, -2.3372, -2.1381, -2.3490,\n",
              "         -2.4091, -2.3530]], grad_fn=<LogSoftmaxBackward0>)"
            ]
          },
          "metadata": {},
          "execution_count": 8
        }
      ]
    },
    {
      "cell_type": "code",
      "source": [
        "import torch.optim as optim\n",
        "optimizer = optim.Adam(net.parameters(),lr=0.001)\n",
        "EPOCHS=3\n",
        "\n",
        "for epoch in range(EPOCHS):\n",
        "  for data in trainset:\n",
        "    X,y=data\n",
        "    net.zero_grad()\n",
        "    output=net(X.view(-1,28*28))\n",
        "    loss=F.nll_loss(output,y)\n",
        "    loss.backward()\n",
        "    optimizer.step()\n",
        "  print(loss)\n",
        "  \n"
      ],
      "metadata": {
        "colab": {
          "base_uri": "https://localhost:8080/"
        },
        "id": "YSo62Nme-YZP",
        "outputId": "4c98970d-bbbb-4329-9ee7-be933fcb8070"
      },
      "execution_count": null,
      "outputs": [
        {
          "output_type": "stream",
          "name": "stdout",
          "text": [
            "tensor(0.1626, grad_fn=<NllLossBackward0>)\n",
            "tensor(0.1870, grad_fn=<NllLossBackward0>)\n",
            "tensor(0.2583, grad_fn=<NllLossBackward0>)\n"
          ]
        }
      ]
    },
    {
      "cell_type": "code",
      "source": [
        "correct =0\n",
        "total=0\n",
        "\n",
        "with torch.no_grad():\n",
        "  for data in trainset:\n",
        "    X,y = data\n",
        "    output = net(X.view(-1,784))\n",
        "    for idx,i in enumerate(output):\n",
        "      if torch.argmax(i)==y[idx]:\n",
        "        correct+=1\n",
        "      total+=1\n",
        "\n",
        "print(\"Accuracy:\",round(correct/total,3))\n"
      ],
      "metadata": {
        "colab": {
          "base_uri": "https://localhost:8080/"
        },
        "id": "ahr7wj0Z-YHV",
        "outputId": "24619edf-d0f7-41cb-91a8-f42ef4d06003"
      },
      "execution_count": null,
      "outputs": [
        {
          "output_type": "stream",
          "name": "stdout",
          "text": [
            "Accuracy: 0.98\n"
          ]
        }
      ]
    },
    {
      "cell_type": "code",
      "source": [
        "import matplotlib.pyplot as plt\n",
        "\n",
        "plt.imshow(X[7].view(28,28))\n",
        "plt.show()\n"
      ],
      "metadata": {
        "colab": {
          "base_uri": "https://localhost:8080/",
          "height": 265
        },
        "id": "-zI31U_UEjUD",
        "outputId": "51a7d961-c6ce-4d38-f116-a69752fa4c36"
      },
      "execution_count": null,
      "outputs": [
        {
          "output_type": "display_data",
          "data": {
            "text/plain": [
              "<Figure size 432x288 with 1 Axes>"
            ],
            "image/png": "[encoded data removed]"
          },
          "metadata": {
            "needs_background": "light"
          }
        }
      ]
    },
    {
      "cell_type": "code",
      "source": [
        "print(torch.argmax(net(X[7].view(-1,784))[0]))"
      ],
      "metadata": {
        "colab": {
          "base_uri": "https://localhost:8080/"
        },
        "id": "ESy_lURtHE8i",
        "outputId": "e089fc66-7ced-43ef-fced-f2b30d717c88"
      },
      "execution_count": null,
      "outputs": [
        {
          "output_type": "stream",
          "name": "stdout",
          "text": [
            "tensor(4)\n"
          ]
        }
      ]
    },
    {
      "cell_type": "code",
      "source": [],
      "metadata": {
        "id": "TzqdkvWbNBXe"
      },
      "execution_count": null,
      "outputs": []
    },
    {
      "cell_type": "code",
      "source": [
        "import os\n",
        "import cv2\n",
        "import numpy as np\n",
        "from tqdm import tqdm\n",
        "\n",
        "REBUID_DATA =True\n",
        "\n",
        "class DogsvsCats():\n",
        "  IMG_SIZE=50\n",
        "  CATS=\"\"\n",
        "  DOGS=\"\"\n",
        "  LABELS={CATS:0,DOGS:1}\n",
        "\n",
        "  training_data=[]\n",
        "  catcount=0\n",
        "  dogcount=0\n",
        "\n",
        "  def make_training_data(self):\n",
        "    for label in self.LABELS:\n",
        "      print(label)\n",
        "      for f in tqdm(os.listdir(label)):\n",
        "        try:\n",
        "            path=os.path.join(label,f)\n",
        "            img= cv2.imread(path,cv2.IMREAD_GRAYSCALE)\n",
        "            img=cv2.resize(img,(self.IMG_SIZE,self.IMG_SIZE))\n",
        "            self.training_data.append([np.array(img),np.eye(2)[self.LABELS[label]]])\n",
        "\n",
        "            if label==self.CATS:\n",
        "              self.catcount+=1\n",
        "            elif label==self.DOGS:\n",
        "              self.dogcount+=1\n",
        "        except:\n",
        "          pass\n",
        "      np.random.shuffle(self.training_data)\n",
        "      np.save(\"training_data.npy\",self.training_data)\n",
        "      print(\"Cats:\",self.catcount)\n",
        "\n",
        "if REBUID_DATA:\n",
        "  dogsvcats = DogsvsCats()\n",
        "  dogsvcats.make_training_data()\n",
        "  \n"
      ],
      "metadata": {
        "id": "Bw32tx9NNBAC"
      },
      "execution_count": null,
      "outputs": []
    }
  ]
}