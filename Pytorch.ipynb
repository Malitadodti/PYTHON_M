{
  "nbformat": 4,
  "nbformat_minor": 0,
  "metadata": {
    "colab": {
      "provenance": []
    },
    "kernelspec": {
      "name": "python3",
      "display_name": "Python 3"
    },
    "language_info": {
      "name": "python"
    },
    "gpuClass": "standard"
  },
  "cells": [
    {
      "cell_type": "code",
      "execution_count": null,
      "metadata": {
        "id": "iaz8tMXDmJYh"
      },
      "outputs": [],
      "source": [
        "import torch\n",
        "import numpy as np"
      ]
    },
    {
      "cell_type": "code",
      "source": [
        "torch.cuda.is_available()"
      ],
      "metadata": {
        "colab": {
          "base_uri": "https://localhost:8080/"
        },
        "id": "K1sCsHZR_51b",
        "outputId": "5a15b524-8297-4ef2-fd11-ee8e5957749a"
      },
      "execution_count": null,
      "outputs": [
        {
          "output_type": "execute_result",
          "data": {
            "text/plain": [
              "True"
            ]
          },
          "metadata": {},
          "execution_count": 2
        }
      ]
    },
    {
      "cell_type": "code",
      "source": [
        "!nvidia-smi"
      ],
      "metadata": {
        "colab": {
          "base_uri": "https://localhost:8080/"
        },
        "id": "3Og_KnP_AFHq",
        "outputId": "a86bac99-1c5c-4548-add8-8c5ab9db44ba"
      },
      "execution_count": null,
      "outputs": [
        {
          "output_type": "stream",
          "name": "stdout",
          "text": [
            "Thu Jun 30 00:26:27 2022       \n",
            "+-----------------------------------------------------------------------------+\n",
            "| NVIDIA-SMI 460.32.03    Driver Version: 460.32.03    CUDA Version: 11.2     |\n",
            "|-------------------------------+----------------------+----------------------+\n",
            "| GPU  Name        Persistence-M| Bus-Id        Disp.A | Volatile Uncorr. ECC |\n",
            "| Fan  Temp  Perf  Pwr:Usage/Cap|         Memory-Usage | GPU-Util  Compute M. |\n",
            "|                               |                      |               MIG M. |\n",
            "|===============================+======================+======================|\n",
            "|   0  Tesla T4            Off  | 00000000:00:04.0 Off |                    0 |\n",
            "| N/A   53C    P8    10W /  70W |      3MiB / 15109MiB |      0%      Default |\n",
            "|                               |                      |                  N/A |\n",
            "+-------------------------------+----------------------+----------------------+\n",
            "                                                                               \n",
            "+-----------------------------------------------------------------------------+\n",
            "| Processes:                                                                  |\n",
            "|  GPU   GI   CI        PID   Type   Process name                  GPU Memory |\n",
            "|        ID   ID                                                   Usage      |\n",
            "|=============================================================================|\n",
            "|  No running processes found                                                 |\n",
            "+-----------------------------------------------------------------------------+\n"
          ]
        }
      ]
    },
    {
      "cell_type": "code",
      "source": [
        "some_data=[[1,2],[3,4]]\n",
        "some_data"
      ],
      "metadata": {
        "colab": {
          "base_uri": "https://localhost:8080/"
        },
        "id": "_95vwFtuAMnS",
        "outputId": "f60ed169-17fc-4c45-f2a9-afad81ec886e"
      },
      "execution_count": null,
      "outputs": [
        {
          "output_type": "execute_result",
          "data": {
            "text/plain": [
              "[[1, 2], [3, 4]]"
            ]
          },
          "metadata": {},
          "execution_count": 3
        }
      ]
    },
    {
      "cell_type": "code",
      "source": [
        "type(some_data)"
      ],
      "metadata": {
        "colab": {
          "base_uri": "https://localhost:8080/"
        },
        "id": "fJodvbwnAb_T",
        "outputId": "793ab538-affd-433a-8eff-9ad74af158da"
      },
      "execution_count": null,
      "outputs": [
        {
          "output_type": "execute_result",
          "data": {
            "text/plain": [
              "torch.Tensor"
            ]
          },
          "metadata": {},
          "execution_count": 8
        }
      ]
    },
    {
      "cell_type": "code",
      "source": [
        "np.array(some_data)"
      ],
      "metadata": {
        "colab": {
          "base_uri": "https://localhost:8080/"
        },
        "id": "q0QUgDvKAgnU",
        "outputId": "97ee432b-e81d-4dae-8c6c-0b835e29108b"
      },
      "execution_count": null,
      "outputs": [
        {
          "output_type": "execute_result",
          "data": {
            "text/plain": [
              "array([[1, 2],\n",
              "       [3, 4]])"
            ]
          },
          "metadata": {},
          "execution_count": 5
        }
      ]
    },
    {
      "cell_type": "code",
      "source": [
        "some_data=torch.tensor(some_data)"
      ],
      "metadata": {
        "id": "oPjQKldPQfy_"
      },
      "execution_count": null,
      "outputs": []
    },
    {
      "cell_type": "code",
      "source": [
        "some_data.dtype"
      ],
      "metadata": {
        "colab": {
          "base_uri": "https://localhost:8080/"
        },
        "id": "loOIl80aQnxW",
        "outputId": "87a74ce9-83c7-4cb6-84fc-24ada1549ada"
      },
      "execution_count": null,
      "outputs": [
        {
          "output_type": "execute_result",
          "data": {
            "text/plain": [
              "torch.int64"
            ]
          },
          "metadata": {},
          "execution_count": 9
        }
      ]
    },
    {
      "cell_type": "code",
      "source": [
        "numpy_array=np.random.rand(3,4)"
      ],
      "metadata": {
        "id": "maKC9Qg4Qz5L"
      },
      "execution_count": null,
      "outputs": []
    },
    {
      "cell_type": "code",
      "source": [
        "numpy_array"
      ],
      "metadata": {
        "colab": {
          "base_uri": "https://localhost:8080/"
        },
        "id": "bVokxn70Qz85",
        "outputId": "ab7915be-42ed-4242-dcd5-ff561fb58602"
      },
      "execution_count": null,
      "outputs": [
        {
          "output_type": "execute_result",
          "data": {
            "text/plain": [
              "array([[0.7591114 , 0.05901552, 0.00699274, 0.17629505],\n",
              "       [0.32315599, 0.64232124, 0.14759223, 0.17900214],\n",
              "       [0.59673414, 0.98283778, 0.87358274, 0.52874675]])"
            ]
          },
          "metadata": {},
          "execution_count": 11
        }
      ]
    },
    {
      "cell_type": "code",
      "source": [
        "torch.from_numpy(numpy_array)"
      ],
      "metadata": {
        "colab": {
          "base_uri": "https://localhost:8080/"
        },
        "id": "pvGPq_dHQ0CV",
        "outputId": "8a27cd91-e8be-4a10-d8c1-65763e495c84"
      },
      "execution_count": null,
      "outputs": [
        {
          "output_type": "execute_result",
          "data": {
            "text/plain": [
              "tensor([[0.7591, 0.0590, 0.0070, 0.1763],\n",
              "        [0.3232, 0.6423, 0.1476, 0.1790],\n",
              "        [0.5967, 0.9828, 0.8736, 0.5287]], dtype=torch.float64)"
            ]
          },
          "metadata": {},
          "execution_count": 12
        }
      ]
    },
    {
      "cell_type": "code",
      "source": [
        "torch.tensor(numpy_array)"
      ],
      "metadata": {
        "colab": {
          "base_uri": "https://localhost:8080/"
        },
        "id": "Ay2Fv3hbREHz",
        "outputId": "3cee7c06-f12e-4997-f333-c6cc54fb64c4"
      },
      "execution_count": null,
      "outputs": [
        {
          "output_type": "execute_result",
          "data": {
            "text/plain": [
              "tensor([[0.7591, 0.0590, 0.0070, 0.1763],\n",
              "        [0.3232, 0.6423, 0.1476, 0.1790],\n",
              "        [0.5967, 0.9828, 0.8736, 0.5287]], dtype=torch.float64)"
            ]
          },
          "metadata": {},
          "execution_count": 13
        }
      ]
    },
    {
      "cell_type": "code",
      "source": [
        "my_tensor=torch.rand(3,4)\n"
      ],
      "metadata": {
        "id": "eM2uwojmRPWw"
      },
      "execution_count": null,
      "outputs": []
    },
    {
      "cell_type": "code",
      "source": [
        "my_tensor.device"
      ],
      "metadata": {
        "colab": {
          "base_uri": "https://localhost:8080/"
        },
        "id": "w8vdWzxeRcJ_",
        "outputId": "5f9c2db2-7ade-462d-9a4d-255b3ce942ed"
      },
      "execution_count": null,
      "outputs": [
        {
          "output_type": "execute_result",
          "data": {
            "text/plain": [
              "device(type='cpu')"
            ]
          },
          "metadata": {},
          "execution_count": 17
        }
      ]
    },
    {
      "cell_type": "code",
      "source": [
        "my_tensor.matmul(my_tensor.T)"
      ],
      "metadata": {
        "colab": {
          "base_uri": "https://localhost:8080/"
        },
        "id": "8ZTqRdmKRmIZ",
        "outputId": "9f3522bf-e654-444c-96a7-de426c42da87"
      },
      "execution_count": null,
      "outputs": [
        {
          "output_type": "execute_result",
          "data": {
            "text/plain": [
              "tensor([[1.3157, 1.7158, 0.2908],\n",
              "        [1.7158, 2.6702, 0.5359],\n",
              "        [0.2908, 0.5359, 0.1338]])"
            ]
          },
          "metadata": {},
          "execution_count": 18
        }
      ]
    },
    {
      "cell_type": "code",
      "source": [
        "torch.cat([my_tensor,my_tensor],axis=1)"
      ],
      "metadata": {
        "colab": {
          "base_uri": "https://localhost:8080/"
        },
        "id": "J6ERXTUZSGmn",
        "outputId": "d903e53e-c9d2-45c2-ba43-d5de81af48b6"
      },
      "execution_count": null,
      "outputs": [
        {
          "output_type": "execute_result",
          "data": {
            "text/plain": [
              "tensor([[0.2381, 0.5300, 0.7595, 0.6335, 0.2381, 0.5300, 0.7595, 0.6335],\n",
              "        [0.9352, 0.6105, 0.8083, 0.8772, 0.9352, 0.6105, 0.8083, 0.8772],\n",
              "        [0.3032, 0.1359, 0.1381, 0.0658, 0.3032, 0.1359, 0.1381, 0.0658]])"
            ]
          },
          "metadata": {},
          "execution_count": 20
        }
      ]
    },
    {
      "cell_type": "code",
      "source": [
        "torch.nn.functional.softmax(my_tensor,dim=0)"
      ],
      "metadata": {
        "colab": {
          "base_uri": "https://localhost:8080/"
        },
        "id": "tCPmgSuJSecK",
        "outputId": "43a0a7a1-2168-4ad3-cf27-48d088f0559a"
      },
      "execution_count": null,
      "outputs": [
        {
          "output_type": "execute_result",
          "data": {
            "text/plain": [
              "tensor([[0.2454, 0.3626, 0.3865, 0.3518],\n",
              "        [0.4927, 0.3930, 0.4058, 0.4488],\n",
              "        [0.2619, 0.2445, 0.2076, 0.1994]])"
            ]
          },
          "metadata": {},
          "execution_count": 22
        }
      ]
    },
    {
      "cell_type": "code",
      "source": [
        "my_tensor.size()"
      ],
      "metadata": {
        "colab": {
          "base_uri": "https://localhost:8080/"
        },
        "id": "Kt3G5XvwSwwL",
        "outputId": "9a18dee7-a37d-444d-e9ed-2d131eac5d02"
      },
      "execution_count": null,
      "outputs": [
        {
          "output_type": "execute_result",
          "data": {
            "text/plain": [
              "torch.Size([3, 4])"
            ]
          },
          "metadata": {},
          "execution_count": 23
        }
      ]
    },
    {
      "cell_type": "code",
      "source": [
        "my_tensor.shape"
      ],
      "metadata": {
        "colab": {
          "base_uri": "https://localhost:8080/"
        },
        "id": "v3zdSE6QS07I",
        "outputId": "ecf2187b-15c3-4a85-8ddd-5126f256f20f"
      },
      "execution_count": null,
      "outputs": [
        {
          "output_type": "execute_result",
          "data": {
            "text/plain": [
              "torch.Size([3, 4])"
            ]
          },
          "metadata": {},
          "execution_count": 24
        }
      ]
    },
    {
      "cell_type": "code",
      "source": [
        "torch.rand(10,3,128,128)"
      ],
      "metadata": {
        "id": "1YmzJSKMS8Rv"
      },
      "execution_count": null,
      "outputs": []
    },
    {
      "cell_type": "code",
      "source": [
        "my_tensor.clip(0.2,0.8)"
      ],
      "metadata": {
        "colab": {
          "base_uri": "https://localhost:8080/"
        },
        "id": "gFhfII1OTCPZ",
        "outputId": "dded0a77-1255-4881-83c1-cb3286dd8ea2"
      },
      "execution_count": null,
      "outputs": [
        {
          "output_type": "execute_result",
          "data": {
            "text/plain": [
              "tensor([[0.2381, 0.5300, 0.7595, 0.6335],\n",
              "        [0.8000, 0.6105, 0.8000, 0.8000],\n",
              "        [0.3032, 0.2000, 0.2000, 0.2000]])"
            ]
          },
          "metadata": {},
          "execution_count": 26
        }
      ]
    },
    {
      "cell_type": "code",
      "source": [
        "a=torch.tensor([5.],requires_grad=True)\n",
        "b=torch.tensor([6.],requires_grad=True)"
      ],
      "metadata": {
        "id": "ICUBP-vXTLVb"
      },
      "execution_count": null,
      "outputs": []
    },
    {
      "cell_type": "code",
      "source": [
        "a"
      ],
      "metadata": {
        "colab": {
          "base_uri": "https://localhost:8080/"
        },
        "id": "FWmvnFSqTsFI",
        "outputId": "d8e9f446-1683-488a-a1b0-77a987b74cca"
      },
      "execution_count": null,
      "outputs": [
        {
          "output_type": "execute_result",
          "data": {
            "text/plain": [
              "tensor([5.], requires_grad=True)"
            ]
          },
          "metadata": {},
          "execution_count": 28
        }
      ]
    },
    {
      "cell_type": "code",
      "source": [
        "y=a**3-b**2"
      ],
      "metadata": {
        "id": "2l-irTSpTwdP"
      },
      "execution_count": null,
      "outputs": []
    },
    {
      "cell_type": "code",
      "source": [
        "print(a.grad)"
      ],
      "metadata": {
        "colab": {
          "base_uri": "https://localhost:8080/"
        },
        "id": "wkRCwAmqT1C8",
        "outputId": "52ed9ccb-cbe6-4fee-ce77-1c0143ddd954"
      },
      "execution_count": null,
      "outputs": [
        {
          "output_type": "stream",
          "name": "stdout",
          "text": [
            "tensor([75.])\n"
          ]
        }
      ]
    },
    {
      "cell_type": "code",
      "source": [],
      "metadata": {
        "id": "Y3-VysNSUOHJ"
      },
      "execution_count": null,
      "outputs": []
    },
    {
      "cell_type": "code",
      "source": [
        "y.backward()"
      ],
      "metadata": {
        "id": "kysAJWaMUIiJ"
      },
      "execution_count": null,
      "outputs": []
    },
    {
      "cell_type": "code",
      "source": [
        "w= torch.randn(10,1,requires_grad=True)\n",
        "b= torch.randn(1,requires_grad=True)"
      ],
      "metadata": {
        "id": "ojsmv2YbUhU5"
      },
      "execution_count": null,
      "outputs": []
    },
    {
      "cell_type": "code",
      "source": [
        "w"
      ],
      "metadata": {
        "colab": {
          "base_uri": "https://localhost:8080/"
        },
        "id": "6Zsh-pP7UhZl",
        "outputId": "c414ea3f-2f5e-4567-a18b-e155c176b4e0"
      },
      "execution_count": null,
      "outputs": [
        {
          "output_type": "execute_result",
          "data": {
            "text/plain": [
              "tensor([[-0.3916],\n",
              "        [ 0.4268],\n",
              "        [-0.3572],\n",
              "        [-1.3126],\n",
              "        [ 0.4261],\n",
              "        [ 1.8638],\n",
              "        [-0.7678],\n",
              "        [-0.1195],\n",
              "        [-0.5626],\n",
              "        [-1.2148]], requires_grad=True)"
            ]
          },
          "metadata": {},
          "execution_count": 33
        }
      ]
    },
    {
      "cell_type": "code",
      "source": [
        "x=torch.rand(1,10)\n",
        "x"
      ],
      "metadata": {
        "colab": {
          "base_uri": "https://localhost:8080/"
        },
        "id": "teGAdGLiU44j",
        "outputId": "10d1b093-8703-4ffd-a932-6ca6dda931b1"
      },
      "execution_count": null,
      "outputs": [
        {
          "output_type": "execute_result",
          "data": {
            "text/plain": [
              "tensor([[0.5903, 0.9030, 0.4814, 0.3491, 0.0826, 0.4585, 0.6517, 0.1789, 0.2470,\n",
              "         0.4364]])"
            ]
          },
          "metadata": {},
          "execution_count": 35
        }
      ]
    },
    {
      "cell_type": "code",
      "source": [
        "output= torch.matmul(x,w)+b"
      ],
      "metadata": {
        "id": "hFZIYpCEU_gZ"
      },
      "execution_count": null,
      "outputs": []
    },
    {
      "cell_type": "code",
      "source": [
        "output"
      ],
      "metadata": {
        "colab": {
          "base_uri": "https://localhost:8080/"
        },
        "id": "AsnmT4PQVJKC",
        "outputId": "810cf39f-a3a8-4950-f22c-753738aad966"
      },
      "execution_count": null,
      "outputs": [
        {
          "output_type": "execute_result",
          "data": {
            "text/plain": [
              "tensor([[-0.3590]], grad_fn=<AddBackward0>)"
            ]
          },
          "metadata": {},
          "execution_count": 37
        }
      ]
    },
    {
      "cell_type": "code",
      "source": [
        "loss=1-output"
      ],
      "metadata": {
        "id": "SlYDA4-rVLrh"
      },
      "execution_count": null,
      "outputs": []
    },
    {
      "cell_type": "code",
      "source": [
        "loss"
      ],
      "metadata": {
        "colab": {
          "base_uri": "https://localhost:8080/"
        },
        "id": "rchUtHSMVO4p",
        "outputId": "fed24e60-3c97-4165-b3e0-c1a63fed3038"
      },
      "execution_count": null,
      "outputs": [
        {
          "output_type": "execute_result",
          "data": {
            "text/plain": [
              "tensor([[1.3590]], grad_fn=<RsubBackward1>)"
            ]
          },
          "metadata": {},
          "execution_count": 39
        }
      ]
    },
    {
      "cell_type": "code",
      "source": [
        "loss.backward()"
      ],
      "metadata": {
        "id": "v1FKPLm1VRQf"
      },
      "execution_count": null,
      "outputs": []
    },
    {
      "cell_type": "code",
      "source": [
        "w.grad"
      ],
      "metadata": {
        "colab": {
          "base_uri": "https://localhost:8080/"
        },
        "id": "D3OAiwUFVabb",
        "outputId": "34fed531-296a-43d6-fa71-dbd1737c348c"
      },
      "execution_count": null,
      "outputs": [
        {
          "output_type": "execute_result",
          "data": {
            "text/plain": [
              "tensor([[-0.5903],\n",
              "        [-0.9030],\n",
              "        [-0.4814],\n",
              "        [-0.3491],\n",
              "        [-0.0826],\n",
              "        [-0.4585],\n",
              "        [-0.6517],\n",
              "        [-0.1789],\n",
              "        [-0.2470],\n",
              "        [-0.4364]])"
            ]
          },
          "metadata": {},
          "execution_count": 41
        }
      ]
    },
    {
      "cell_type": "code",
      "source": [
        "with torch.no_grad():\n",
        "  w= w- 0.001 *  w.grad.data"
      ],
      "metadata": {
        "id": "IV56Ph5EVdKp"
      },
      "execution_count": null,
      "outputs": []
    },
    {
      "cell_type": "code",
      "source": [
        "w"
      ],
      "metadata": {
        "colab": {
          "base_uri": "https://localhost:8080/"
        },
        "id": "kEMRe0x6VdHH",
        "outputId": "99724c19-1e24-472c-d566-ba7ccadf51b5"
      },
      "execution_count": null,
      "outputs": [
        {
          "output_type": "execute_result",
          "data": {
            "text/plain": [
              "tensor([[-0.3910],\n",
              "        [ 0.4277],\n",
              "        [-0.3568],\n",
              "        [-1.3122],\n",
              "        [ 0.4262],\n",
              "        [ 1.8642],\n",
              "        [-0.7672],\n",
              "        [-0.1193],\n",
              "        [-0.5623],\n",
              "        [-1.2143]])"
            ]
          },
          "metadata": {},
          "execution_count": 44
        }
      ]
    },
    {
      "cell_type": "code",
      "source": [
        "from sklearn.datasets import make_classification\n",
        "import torch"
      ],
      "metadata": {
        "id": "69tdgzmHXs3e"
      },
      "execution_count": null,
      "outputs": []
    },
    {
      "cell_type": "code",
      "source": [
        "class CustomDataset:\n",
        "  def __init__ (self,data,targets):\n",
        "    self.data =data\n",
        "    self.targets =targets\n",
        "  def __len__ (self):\n",
        "    return self.data.shape[0]\n",
        "  def __getitem__ (self,idx):\n",
        "    current_sample=self.data[idx,:]\n",
        "    current_target =self.targets[idx]\n",
        "\n",
        "    return {\n",
        "        \"sample\":torch.tensor(current_sample,dtype=torch.float),\n",
        "        \"target\":torch.tensor(current_target,dtype=torch.long),\n",
        "    }\n"
      ],
      "metadata": {
        "id": "H-UhG8Z-WAwj"
      },
      "execution_count": null,
      "outputs": []
    },
    {
      "cell_type": "code",
      "source": [
        "data,targets =make_classification(n_samples=1000)"
      ],
      "metadata": {
        "id": "CWs8E3AFXq4h"
      },
      "execution_count": null,
      "outputs": []
    },
    {
      "cell_type": "code",
      "source": [
        "data.shape"
      ],
      "metadata": {
        "colab": {
          "base_uri": "https://localhost:8080/"
        },
        "id": "ruNyeGCvYHh7",
        "outputId": "aa65813e-724c-46af-8201-1e9cdd0f3eb3"
      },
      "execution_count": null,
      "outputs": [
        {
          "output_type": "execute_result",
          "data": {
            "text/plain": [
              "(1000, 20)"
            ]
          },
          "metadata": {},
          "execution_count": 79
        }
      ]
    },
    {
      "cell_type": "code",
      "source": [
        "custom_dataset=CustomDataset(data=data,targets=targets)"
      ],
      "metadata": {
        "id": "nMjuP731YL92"
      },
      "execution_count": null,
      "outputs": []
    },
    {
      "cell_type": "code",
      "source": [
        "len(custom_dataset)"
      ],
      "metadata": {
        "colab": {
          "base_uri": "https://localhost:8080/"
        },
        "id": "OvXyqtOcYZ5y",
        "outputId": "2d44cd06-06ec-4dcf-99d4-e3b11f92f4f6"
      },
      "execution_count": null,
      "outputs": [
        {
          "output_type": "execute_result",
          "data": {
            "text/plain": [
              "1000"
            ]
          },
          "metadata": {},
          "execution_count": 81
        }
      ]
    },
    {
      "cell_type": "code",
      "source": [
        "custom_dataset[0]['sample']"
      ],
      "metadata": {
        "colab": {
          "base_uri": "https://localhost:8080/"
        },
        "id": "d9YCLpueYlv4",
        "outputId": "90a11ea5-813b-4d4f-9a47-63d8815512dc"
      },
      "execution_count": null,
      "outputs": [
        {
          "output_type": "execute_result",
          "data": {
            "text/plain": [
              "tensor([-1.1359e+00,  4.3085e-01,  2.4694e-01, -7.8019e-01,  9.2284e-01,\n",
              "        -3.5019e-02,  3.1634e-01,  1.2723e+00, -1.4738e+00, -3.4790e-02,\n",
              "         2.3800e+00,  1.4211e+00,  1.4921e-03,  4.5660e-01,  8.1718e-01,\n",
              "         1.3280e-01,  4.2136e-01,  5.1462e-01, -1.1086e+00, -3.3751e-01])"
            ]
          },
          "metadata": {},
          "execution_count": 82
        }
      ]
    },
    {
      "cell_type": "code",
      "source": [
        "for idx in range(len(custom_dataset)):\n",
        "  print(custom_dataset[idx])"
      ],
      "metadata": {
        "id": "wlu0e6pRZ59d"
      },
      "execution_count": null,
      "outputs": []
    },
    {
      "cell_type": "code",
      "source": [
        "#classification/regression\n",
        "class CustomDataset:\n",
        "  def __init__ (self,data,targets,tokenizer):\n",
        "    self.data =data\n",
        "    self.targets =targets\n",
        "  def __len__ (self):\n",
        "    return len(self.data)\n",
        "  def __getitem__ (self,idx):\n",
        "    text=self.data[idx,:]\n",
        "    ent_target =self.targets[idx,:]\n",
        "    current_target =self.targets[idx]\n",
        "    input_ids= tokenizer(text)\n",
        "\n",
        "    return {\n",
        "        \"text\":torch.tensor(input_ids,dtype=torch.long),\n",
        "        \"target\":torch.tensor(current_target,dtype=torch.long),\n",
        "    }"
      ],
      "metadata": {
        "id": "s8niqknlanRw"
      },
      "execution_count": null,
      "outputs": []
    },
    {
      "cell_type": "code",
      "source": [
        "import torch\n",
        "import cv2\n",
        "import numpy"
      ],
      "metadata": {
        "id": "6mhModMsam9g"
      },
      "execution_count": null,
      "outputs": []
    },
    {
      "cell_type": "code",
      "source": [
        "class CustomDataset:\n",
        "  def __init__ (self,image_paths,targets,augmentations):\n",
        "    self.image_paths =image_paths\n",
        "    self.targets =targets\n",
        "    self.augmentations=augmentations\n",
        "  def __len__ (self):\n",
        "    return len(self.image_paths)\n",
        "  def __getitem__ (self):\n",
        "    target =self.targets[idx]\n",
        "    image=cv2.imread(self.image_paths[idx])\n",
        "    image = cv2.cvtColor(image,cv2.COLOR_BGR2RGB)\n",
        "    if self.augmentations is not None:\n",
        "      augmented=self.augmentations(image=image)\n",
        "      mask=augmented[\"mask\"]\n",
        "      #image=augmented[\"image\"]\n",
        "    image=np.transpose(image,(2,0,1)).astype(np.float32)\n",
        "    return {\n",
        "        \"image\":torch.tensor(image),\n",
        "        \"target\":torch.tensor(target)\n",
        "    }"
      ],
      "metadata": {
        "id": "kssRZIsI7mxB"
      },
      "execution_count": null,
      "outputs": []
    },
    {
      "cell_type": "code",
      "source": [
        "import torch\n",
        "from sklearn.datasets import make_classification"
      ],
      "metadata": {
        "id": "TlXJ9c1J6ZBI"
      },
      "execution_count": null,
      "outputs": []
    },
    {
      "cell_type": "code",
      "source": [
        "class CustomDataset:\n",
        "  def __init__ (self,data,targets):\n",
        "    self.data =data\n",
        "    self.targets =targets\n",
        "  def __len__ (self):\n",
        "    return self.data.shape[0]\n",
        "  def __getitem__ (self,idx):\n",
        "    current_sample=self.data[idx,:]\n",
        "    current_target =self.targets[idx]\n",
        "\n",
        "    return {\n",
        "        \"x\":torch.tensor(current_sample,dtype=torch.float),\n",
        "        \"y\":torch.tensor(current_target,dtype=torch.long),\n",
        "    }"
      ],
      "metadata": {
        "id": "J2NIVtW36Jwl"
      },
      "execution_count": null,
      "outputs": []
    },
    {
      "cell_type": "code",
      "source": [
        "data,targets =make_classification(n_samples=1000)"
      ],
      "metadata": {
        "id": "Vl3EQEST6oyc"
      },
      "execution_count": null,
      "outputs": []
    },
    {
      "cell_type": "code",
      "source": [
        "dataset=CustomDataset(data,targets)"
      ],
      "metadata": {
        "id": "oyeLQISp6qQ2"
      },
      "execution_count": null,
      "outputs": []
    },
    {
      "cell_type": "code",
      "source": [
        "len(dataset)"
      ],
      "metadata": {
        "colab": {
          "base_uri": "https://localhost:8080/"
        },
        "id": "x_epzSlx7E1b",
        "outputId": "9bfdd26e-49c6-4717-8a14-31981b55e27b"
      },
      "execution_count": null,
      "outputs": [
        {
          "output_type": "execute_result",
          "data": {
            "text/plain": [
              "1000"
            ]
          },
          "metadata": {},
          "execution_count": 5
        }
      ]
    },
    {
      "cell_type": "code",
      "source": [
        "train_loader=torch.utils.data.DataLoader(dataset,batch_size=4,num_workers=2)"
      ],
      "metadata": {
        "id": "HshNPomv7avy"
      },
      "execution_count": null,
      "outputs": []
    },
    {
      "cell_type": "code",
      "source": [
        "for data in train_loader:\n",
        "  print(data['x'].shape)\n",
        "  print(data['y'].shape)\n",
        "  break"
      ],
      "metadata": {
        "colab": {
          "base_uri": "https://localhost:8080/"
        },
        "id": "aSi3KUYt73wC",
        "outputId": "d1e5c715-2c66-468b-e2d1-03a725ee575c"
      },
      "execution_count": null,
      "outputs": [
        {
          "output_type": "stream",
          "name": "stdout",
          "text": [
            "torch.Size([4, 20])\n",
            "torch.Size([4])\n"
          ]
        }
      ]
    },
    {
      "cell_type": "code",
      "source": [
        "import torch\n",
        "from sklearn.datasets import make_classification\n",
        "class CustomDataset:\n",
        "  def __init__ (self,data,targets):\n",
        "    self.data =data\n",
        "    self.targets =targets\n",
        "  def __len__ (self):\n",
        "    return self.data.shape[0]\n",
        "  def __getitem__ (self,idx):\n",
        "    current_sample=self.data[idx,:]\n",
        "    current_target =self.targets[idx]\n",
        "\n",
        "    return {\n",
        "        \"x\":torch.tensor(current_sample,dtype=torch.float),\n",
        "        \"y\":torch.tensor(current_target,dtype=torch.long),\n",
        "    }"
      ],
      "metadata": {
        "id": "YNrzGgis8Air"
      },
      "execution_count": null,
      "outputs": []
    },
    {
      "cell_type": "code",
      "source": [
        "data,targets =make_classification(n_samples=1000)\n",
        "train_data,test_data,train_targets,test_targets=train_test_split(data,targets,stratify=targets)"
      ],
      "metadata": {
        "id": "HdlACEpc8z-T"
      },
      "execution_count": null,
      "outputs": []
    },
    {
      "cell_type": "code",
      "source": [
        "from sklearn.model_selection import train_test_split"
      ],
      "metadata": {
        "id": "tt4LGFQc83Sq"
      },
      "execution_count": null,
      "outputs": []
    },
    {
      "cell_type": "code",
      "source": [
        "train_dataset=CustomDataset(train_data,train_targets)\n",
        "test_dataset=CustomDataset(test_data,test_targets)"
      ],
      "metadata": {
        "id": "9Gm2j7O99FGC"
      },
      "execution_count": null,
      "outputs": []
    },
    {
      "cell_type": "code",
      "source": [
        "train_loader=torch.utils.data.DataLoader(train_dataset,batch_size=4,num_workers=2)\n",
        "test_loader=torch.utils.data.DataLoader(test_dataset,batch_size=4,num_workers=2)"
      ],
      "metadata": {
        "id": "uRcq19l79ywD"
      },
      "execution_count": null,
      "outputs": []
    },
    {
      "cell_type": "code",
      "source": [
        "model=lambda x,w,b: torch.matmul(x,w) +b"
      ],
      "metadata": {
        "id": "LoLSptPt-F3J"
      },
      "execution_count": null,
      "outputs": []
    },
    {
      "cell_type": "code",
      "source": [
        "train_data.shape"
      ],
      "metadata": {
        "colab": {
          "base_uri": "https://localhost:8080/"
        },
        "id": "oUTprNRX-SwC",
        "outputId": "264c6c7d-d481-4ce2-c517-b3aeaa345509"
      },
      "execution_count": null,
      "outputs": [
        {
          "output_type": "execute_result",
          "data": {
            "text/plain": [
              "(750, 20)"
            ]
          },
          "metadata": {},
          "execution_count": 17
        }
      ]
    },
    {
      "cell_type": "code",
      "source": [
        "from typing import Counter\n",
        "W=torch.randn(20,1,requires_grad=True)\n",
        "b=torch.randn(1,requires_grad=True)\n",
        "learning_rate=0.001\n",
        "\n",
        "for epoch in range(10):\n",
        "    epoch_loss =0\n",
        "    counter=0\n",
        "    for data in train_loader:\n",
        "      xtrain=data['x']\n",
        "      ytrain=data['y']\n",
        "      \n",
        "\n",
        "      output=model(xtrain,W,b)\n",
        "      loss=torch.mean((ytrain.view(-1)-output.view(-1))**2)\n",
        "      epoch_loss =epoch_loss+loss.item()\n",
        "      loss.backward()\n",
        "\n",
        "      with torch.no_grad():\n",
        "        W= W-learning_rate * W.grad\n",
        "        b= b-learning_rate * b.grad\n",
        "\n",
        "      W.requires_grad_(True)\n",
        "      b.requires_grad_(True)\n",
        "      counter+=1\n",
        "\n",
        "\n",
        "\n",
        "\n",
        "    print(epoch,epoch_loss/counter)"
      ],
      "metadata": {
        "colab": {
          "base_uri": "https://localhost:8080/"
        },
        "id": "aTVObLoV-X6B",
        "outputId": "f2589fa5-8706-4db8-fc14-540e577084a0"
      },
      "execution_count": null,
      "outputs": [
        {
          "output_type": "stream",
          "name": "stdout",
          "text": [
            "0 14.252567946514551\n",
            "1 5.031509960268406\n",
            "2 2.1772478263270347\n",
            "3 1.0398975198573255\n",
            "4 0.5410846988472374\n",
            "5 0.3140613885219902\n",
            "6 0.20884976172547273\n",
            "7 0.1595111589896136\n",
            "8 0.13615239909206062\n",
            "9 0.12499829214635959\n"
          ]
        }
      ]
    },
    {
      "cell_type": "code",
      "source": [
        "from sklearn import metrics"
      ],
      "metadata": {
        "id": "vbtdkodhItrM"
      },
      "execution_count": null,
      "outputs": []
    },
    {
      "cell_type": "code",
      "source": [
        "outputs=[]\n",
        "labels =[]\n",
        "with torch.no_grad():\n",
        "  for data in test_loader:\n",
        "    xtest =data['x']\n",
        "    ytest =data['y']\n",
        "\n",
        "    output = model(xtest,W,b)\n",
        "    labels.append(ytest)\n",
        "    outputs.append(output)\n"
      ],
      "metadata": {
        "id": "CEXrgSHt-vef"
      },
      "execution_count": null,
      "outputs": []
    },
    {
      "cell_type": "code",
      "source": [
        "metrics.roc_auc_score(torch.cat(labels).view(-1),torch.cat(outputs).view(-1))"
      ],
      "metadata": {
        "colab": {
          "base_uri": "https://localhost:8080/"
        },
        "id": "lQTNj_5iIHhr",
        "outputId": "ef0b5994-3af2-430b-c7d0-16eb40c6ab99"
      },
      "execution_count": null,
      "outputs": [
        {
          "output_type": "execute_result",
          "data": {
            "text/plain": [
              "0.9373399897593446"
            ]
          },
          "metadata": {},
          "execution_count": 38
        }
      ]
    },
    {
      "cell_type": "code",
      "source": [
        "def train_one_step(model,data,optimizer):\n",
        "  optimizer.zero_grad()\n",
        "  for k,v in data.items():\n",
        "    data[k]=v.to(\"cuda\")\n",
        "  loss= model(**data)\n",
        "  #loss=model(x=data[\"x\"],y=data[\"y\"])\n",
        "  loss.backward()\n",
        "  optimizer.step()\n",
        "  return loss\n",
        "  \n"
      ],
      "metadata": {
        "id": "wDy1uNLqGYi0"
      },
      "execution_count": null,
      "outputs": []
    },
    {
      "cell_type": "code",
      "source": [
        "def train_one_epoch(model,data_loader,optimizer,schedular):\n",
        "  model.train()\n",
        "  total_loss=0\n",
        "  for batch_index,data in enumerate(data_loader):\n",
        "    loss=train_one_step(model,data,optimizer)\n",
        "    schedular.step()\n",
        "    total_loss+=loss\n",
        "  return total_loss"
      ],
      "metadata": {
        "id": "OPZF6YHUGYaB"
      },
      "execution_count": null,
      "outputs": []
    },
    {
      "cell_type": "code",
      "source": [
        "def validate_one_step(model,data):\n",
        "  for k,v in data.items():\n",
        "    data[k]=v.to(\"cuda\")\n",
        "  loss= model(**data)\n",
        "  return loss"
      ],
      "metadata": {
        "id": "QwMnKqbCIo64"
      },
      "execution_count": null,
      "outputs": []
    },
    {
      "cell_type": "code",
      "source": [
        "def validate_one_epoch(model,data_loader):\n",
        "  model.train()\n",
        "  total_loss=0\n",
        "  for batch_index,data in enumerate(data_loader):\n",
        "    with torch.no_grad():\n",
        "       loss=validate_one_step(model,data)\n",
        "    total_loss+=loss\n",
        "  return total_loss"
      ],
      "metadata": {
        "id": "Gy_ajSf-IT9p"
      },
      "execution_count": null,
      "outputs": []
    },
    {
      "cell_type": "code",
      "source": [],
      "metadata": {
        "id": "IzPuMhZUJLIv"
      },
      "execution_count": null,
      "outputs": []
    }
  ]
}